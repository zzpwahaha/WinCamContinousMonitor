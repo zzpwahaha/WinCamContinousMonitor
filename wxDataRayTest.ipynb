{
 "cells": [
  {
   "cell_type": "code",
   "execution_count": 1,
   "metadata": {},
   "outputs": [],
   "source": [
    "%gui wx"
   ]
  },
  {
   "cell_type": "code",
   "execution_count": 2,
   "metadata": {},
   "outputs": [],
   "source": [
    "import wx"
   ]
  },
  {
   "cell_type": "code",
   "execution_count": 3,
   "metadata": {},
   "outputs": [
    {
     "name": "stdout",
     "output_type": "stream",
     "text": [
      "4.1.0 msw (phoenix) wxWidgets 3.1.4\n"
     ]
    }
   ],
   "source": [
    "print(wx.version())"
   ]
  },
  {
   "cell_type": "code",
   "execution_count": 4,
   "metadata": {},
   "outputs": [
    {
     "name": "stdout",
     "output_type": "stream",
     "text": [
      "<built-in function GetApp>\n"
     ]
    }
   ],
   "source": [
    "print(wx.GetApp)"
   ]
  },
  {
   "cell_type": "code",
   "execution_count": 5,
   "metadata": {},
   "outputs": [
    {
     "data": {
      "text/plain": [
       "True"
      ]
     },
     "execution_count": 5,
     "metadata": {},
     "output_type": "execute_result"
    }
   ],
   "source": [
    "frame = wx.Frame(None,title = 'test')\n",
    "frame.Show()"
   ]
  },
  {
   "cell_type": "code",
   "execution_count": 6,
   "metadata": {},
   "outputs": [],
   "source": [
    "panel = wx.Panel(frame)\n",
    "\n",
    "panel.BackgroundColour = 'sky blue'"
   ]
  },
  {
   "cell_type": "code",
   "execution_count": 7,
   "metadata": {},
   "outputs": [],
   "source": [
    "frame.SendSizeEvent()"
   ]
  },
  {
   "cell_type": "code",
   "execution_count": 8,
   "metadata": {},
   "outputs": [],
   "source": [
    "class MyApp( wx.App ):\n",
    "    def __init__( self, redirect=False, filename=None ):\n",
    "        wx.App.__init__( self, redirect, filename )\n",
    "        self.frame = wx.Frame( parent=None, id=wx.ID_ANY,size=(500,500), title='Python Interface to DataRay')\n",
    "        self.frame.Show()\n",
    "        \n"
   ]
  },
  {
   "cell_type": "code",
   "execution_count": 11,
   "metadata": {},
   "outputs": [],
   "source": [
    "app = MyApp()"
   ]
  },
  {
   "cell_type": "markdown",
   "metadata": {},
   "source": [
    "app.MainLoop()"
   ]
  },
  {
   "cell_type": "code",
   "execution_count": 9,
   "metadata": {},
   "outputs": [],
   "source": [
    "import wx\n",
    "import wx.lib.activex\n",
    "import csv\n",
    "import comtypes.client"
   ]
  },
  {
   "cell_type": "code",
   "execution_count": 10,
   "metadata": {},
   "outputs": [],
   "source": [
    "class EventSink(object):\n",
    "\n",
    "    def __init__(self, frame):\n",
    "        self.counter = 0\n",
    "        self.frame = frame\n",
    "\n",
    "    def DataReady(self):\n",
    "        self.counter +=1\n",
    "        self.frame.Title= \"DataReady fired {0} times\".format(self.counter)"
   ]
  },
  {
   "cell_type": "code",
   "execution_count": 11,
   "metadata": {},
   "outputs": [],
   "source": [
    "class MyApp( wx.App ): \n",
    "    \n",
    "    def OnClick(self,e):\n",
    "        rb_selection = self.rb.GetStringSelection()\n",
    "        if rb_selection == \"WinCam\":\n",
    "            data = self.gd.ctrl.GetWinCamDataAsVariant()\n",
    "            data = [[x] for x in data]\n",
    "        else:\n",
    "            p_selection = self.cb.GetStringSelection()\n",
    "            if p_selection == \"Profile_X\":\n",
    "                data = self.px.ctrl.GetProfileDataAsVariant()\n",
    "                data = [[x] for x in data]#csv.writerows accepts a list of rows where each row is a list, a list of lists\n",
    "            elif p_selection == \"Profile_Y\":\n",
    "                data = self.py.ctrl.GetProfileDataAsVariant()\n",
    "                data = [[x] for x in data]\n",
    "            else:\n",
    "                datax = self.px.ctrl.GetProfileDataAsVariant()\n",
    "                datay = self.py.ctrl.GetProfileDataAsVariant()\n",
    "                data = [list(row) for row in zip(datax,datay)]#Makes a list of lists; X1 with Y1 in a list, X2 with Y2 in a list etc...\n",
    "        filename = self.ti.Value\n",
    "        with open(filename, 'wb') as fp:\n",
    "            w = csv.writer(fp, delimiter=',')\n",
    "            w.writerows(data)\n",
    "\n",
    "    def __init__( self, redirect=False, filename=None ):\n",
    "        wx.App.__init__( self, redirect, filename )\n",
    "        self.frame = wx.Frame( parent=None, id=wx.ID_ANY,size=(760,500), title='Python Interface to DataRay')\n",
    "        #Panel\n",
    "        p = wx.Panel(self.frame, wx.ID_ANY)\n",
    "        #Get Data\n",
    "        self.gd = wx.lib.activex.ActiveXCtrl(p, 'DATARAYOCX.GetDataCtrl.1')\n",
    "        #The methods of the object are available through the ctrl property of the item\n",
    "#         self.gd.ctrl.StartDriver()\n",
    "        self.counter = 0\n",
    "        sink = EventSink(self.frame)\n",
    "        self.sink = comtypes.client.GetEvents(self.gd.ctrl, sink)\n",
    "        #Button Panel\n",
    "        bp = wx.Panel(parent=self.frame, id=wx.ID_ANY, size=(215, 250))\n",
    "        b1 = wx.lib.activex.ActiveXCtrl(parent=bp,size=(200,50), pos=(7, 0),axID='DATARAYOCX.ButtonCtrl.1')\n",
    "        b1.ctrl.ButtonID =297 #Id's for some ActiveX controls must be set\n",
    "        b2 = wx.lib.activex.ActiveXCtrl(parent=bp,size=(100,25), pos=(5, 55),axID='DATARAYOCX.ButtonCtrl.1')\n",
    "        b2.ctrl.ButtonID =171\n",
    "        b3 = wx.lib.activex.ActiveXCtrl(parent=bp,size=(100,25), pos=(110,55),axID='DATARAYOCX.ButtonCtrl.1')\n",
    "        b3.ctrl.ButtonID =172\n",
    "        b4 = wx.lib.activex.ActiveXCtrl(parent=bp,size=(100,25), pos=(5, 85),axID='DATARAYOCX.ButtonCtrl.1')\n",
    "        b4.ctrl.ButtonID =177\n",
    "        b4 = wx.lib.activex.ActiveXCtrl(parent=bp,size=(100,25), pos=(110, 85),axID='DATARAYOCX.ButtonCtrl.1')\n",
    "        b4.ctrl.ButtonID =179\n",
    "        #Custom controls\n",
    "        t = wx.StaticText(bp, label=\"File:\", pos=(5, 115))\n",
    "        self.ti = wx.TextCtrl(bp, value=r\"C:\\Users\\Public\\Documents\\output.csv\", pos=(30, 115), size=(170, -1))\n",
    "        self.rb = wx.RadioBox(bp, label=\"Data:\", pos=(5, 140), choices=[\"Profile\", \"WinCam\"])\n",
    "        self.cb = wx.ComboBox(bp, pos=(5,200), choices=[ \"Profile_X\", \"Profile_Y\", \"Both\"])\n",
    "        self.cb.SetSelection(0)\n",
    "        myb = wx.Button(bp, label=\"Write\", pos=(5,225))\n",
    "        myb.Bind(wx.EVT_BUTTON, self.OnClick)\n",
    "        #Pictures\n",
    "        pic = wx.lib.activex.ActiveXCtrl(parent=self.frame,size=(250,250),axID='DATARAYOCX.CCDimageCtrl.1')\n",
    "        tpic = wx.lib.activex.ActiveXCtrl(parent=self.frame,size=(250,250), axID='DATARAYOCX.ThreeDviewCtrl.1')\n",
    "        palette = wx.lib.activex.ActiveXCtrl(parent=self.frame,size=(10,250), axID='DATARAYOCX.PaletteBarCtrl.1')\n",
    "        #Profiles\n",
    "        self.px = wx.lib.activex.ActiveXCtrl(parent=self.frame,size=(300,200),axID='DATARAYOCX.ProfilesCtrl.1')\n",
    "        self.px.ctrl.ProfileID=22\n",
    "        self.py = wx.lib.activex.ActiveXCtrl(parent=self.frame,size=(300,200),axID='DATARAYOCX.ProfilesCtrl.1')\n",
    "        self.py.ctrl.ProfileID = 23\n",
    "        #Formatting \n",
    "        row1 = wx.BoxSizer(wx.HORIZONTAL)\n",
    "        row1.Add(bp,flag=wx.RIGHT, border=10)\n",
    "        row1.Add(pic)\n",
    "        row1.Add(tpic, flag=wx.LEFT, border=10)\n",
    "        row2 = wx.BoxSizer(wx.HORIZONTAL)\n",
    "        row2.Add(self.px, 0, wx.RIGHT, 100)# Arguments: item, proportion, flags, border\n",
    "        row2.Add(self.py)\n",
    "        col1 = wx.BoxSizer(wx.VERTICAL)\n",
    "        col1.Add(row1, flag=wx.BOTTOM, border=10)\n",
    "        col1.Add(row2, flag=wx.ALIGN_CENTER_HORIZONTAL)\n",
    "        self.frame.SetSizer(col1)\n",
    "        self.frame.Show()"
   ]
  },
  {
   "cell_type": "code",
   "execution_count": 22,
   "metadata": {},
   "outputs": [],
   "source": [
    "app = MyApp()"
   ]
  },
  {
   "cell_type": "code",
   "execution_count": 12,
   "metadata": {},
   "outputs": [],
   "source": [
    "gd = wx.lib.activex.ActiveXCtrl(panel,'DATARAYOCX.GetDataCtrl.1')"
   ]
  },
  {
   "cell_type": "code",
   "execution_count": 14,
   "metadata": {},
   "outputs": [
    {
     "data": {
      "text/plain": [
       "<POINTER(IWebBrowser2) ptr=0x11e0a8af9a0 at 11e0bbfc3c0>"
      ]
     },
     "execution_count": 14,
     "metadata": {},
     "output_type": "execute_result"
    }
   ],
   "source": [
    "gd.ctrl"
   ]
  },
  {
   "cell_type": "code",
   "execution_count": null,
   "metadata": {},
   "outputs": [],
   "source": []
  }
 ],
 "metadata": {
  "kernelspec": {
   "display_name": "Python 3",
   "language": "python",
   "name": "python3"
  },
  "language_info": {
   "codemirror_mode": {
    "name": "ipython",
    "version": 3
   },
   "file_extension": ".py",
   "mimetype": "text/x-python",
   "name": "python",
   "nbconvert_exporter": "python",
   "pygments_lexer": "ipython3",
   "version": "3.8.3"
  }
 },
 "nbformat": 4,
 "nbformat_minor": 4
}
