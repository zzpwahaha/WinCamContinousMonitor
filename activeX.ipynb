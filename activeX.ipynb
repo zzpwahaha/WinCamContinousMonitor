{
 "cells": [
  {
   "cell_type": "code",
   "execution_count": 1,
   "metadata": {},
   "outputs": [],
   "source": [
    "from PyQt5.QAxContainer import *\n",
    "from PyQt5.QtWidgets import *\n",
    "from PyQt5.QtCore import QObject\n",
    "import sys"
   ]
  },
  {
   "cell_type": "code",
   "execution_count": null,
   "metadata": {},
   "outputs": [],
   "source": []
  },
  {
   "cell_type": "code",
   "execution_count": 4,
   "metadata": {},
   "outputs": [],
   "source": [
    "from PyQt5.QtCore import QObject\n",
    "from PyQt5.QAxContainer import QAxWidget\n",
    "\n",
    "class ActiveXExtend(QObject):\n",
    "\n",
    "    def __init__(self, view):\n",
    "        super().__init__()\n",
    "        self.view = view\n",
    "        self.ocx = QAxWidget(\"KHOPENAPI.KHOpenAPICtrl.1\")\n",
    "        # receive ActiveX event. \n",
    "        self.ocx.OnReceiveMsg[str,str,str,str].connect(self._OnReceiveMsg)\n",
    "\n",
    "    # event handler\n",
    "        def _OnReceiveMsg(self, scrNo, rQName, trCode, msg):\n",
    "            print(\"receive event\") "
   ]
  },
  {
   "cell_type": "code",
   "execution_count": null,
   "metadata": {},
   "outputs": [],
   "source": []
  }
 ],
 "metadata": {
  "kernelspec": {
   "display_name": "Python 3",
   "language": "python",
   "name": "python3"
  },
  "language_info": {
   "codemirror_mode": {
    "name": "ipython",
    "version": 3
   },
   "file_extension": ".py",
   "mimetype": "text/x-python",
   "name": "python",
   "nbconvert_exporter": "python",
   "pygments_lexer": "ipython3",
   "version": "3.8.3"
  }
 },
 "nbformat": 4,
 "nbformat_minor": 4
}
